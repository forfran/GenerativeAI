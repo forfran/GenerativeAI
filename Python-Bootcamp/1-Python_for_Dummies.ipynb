{
  "cells": [
    {
      "cell_type": "markdown",
      "metadata": {
        "id": "view-in-github",
        "colab_type": "text"
      },
      "source": [
        "<a href=\"https://colab.research.google.com/github/forfran/GenerativeAI/blob/main/Python-Bootcamp/1-Python_for_Dummies.ipynb\" target=\"_parent\"><img src=\"https://colab.research.google.com/assets/colab-badge.svg\" alt=\"Open In Colab\"/></a>"
      ]
    },
    {
      "cell_type": "markdown",
      "metadata": {
        "id": "3apVHK0gy4ZN"
      },
      "source": [
        "### Syntax and Semantics in Python\n",
        "\n",
        "- Single line Comments and multiline comments\n",
        "- Definition of Syntax and Semantics\n",
        "- Basic Syntax Rules in Python\n",
        "- Understanding Semantics in Python\n",
        "- Common Syntax Errors and How to Avoid Them\n",
        "- Practical Code Examples"
      ]
    },
    {
      "cell_type": "markdown",
      "metadata": {
        "id": "aOSpMTjjy4ZO"
      },
      "source": [
        "Syntax refers to the set of rules that defines the combinations of symbols that are considered to be correctly structured programs in a language. In simpler terms, syntax is about the correct arrangement of words and symbols in a code.\n",
        "\n",
        "Semantics refers to the meaning or the interpretation of the symbols, characters, and commands in a language. It is about what the code is supposed to do when it runs."
      ]
    },
    {
      "cell_type": "code",
      "execution_count": null,
      "metadata": {
        "id": "pjf64p6Xy4ZO",
        "outputId": "0e0a2dbb-0653-4dc8-8969-a8ee7e1f6258"
      },
      "outputs": [
        {
          "name": "stdout",
          "output_type": "stream",
          "text": [
            "Krish\n",
            "Naik\n"
          ]
        }
      ],
      "source": [
        "## Basic Syntax Rules In Python\n",
        "## Case sensitivity- Python is case sensitive\n",
        "\n",
        "name=\"Krish\"\n",
        "Name=\"Naik\"\n",
        "\n",
        "print(name)\n",
        "print(Name)\n"
      ]
    },
    {
      "cell_type": "markdown",
      "metadata": {
        "id": "7N49wD-Ay4ZP"
      },
      "source": [
        "### Indentation\n",
        "Indentation in Python is used to define the structure and hierarchy of the code. Unlike many other programming languages that use braces {} to delimit blocks of code, Python uses indentation to determine the grouping of statements. This means that all the statements within a block must be indented at the same level."
      ]
    },
    {
      "cell_type": "code",
      "execution_count": null,
      "metadata": {
        "id": "VrEWQ4-Yy4ZQ",
        "outputId": "33f33007-5082-48c1-90f5-967d179cd7fb"
      },
      "outputs": [
        {
          "name": "stdout",
          "output_type": "stream",
          "text": [
            "32\n",
            "32\n"
          ]
        }
      ],
      "source": [
        "## Indentation\n",
        "## Python uses indentation to define blocks of code. Consistent use of spaces (commonly 4) or a tab is required.\n",
        "\n",
        "age=32\n",
        "if age>30:\n",
        "\n",
        "    print(age)\n",
        "\n",
        "print(age)\n"
      ]
    },
    {
      "cell_type": "code",
      "execution_count": null,
      "metadata": {
        "id": "aktKQpKPy4ZQ",
        "outputId": "bc679ae3-a875-46fd-8f26-71caad4ca851"
      },
      "outputs": [
        {
          "name": "stdout",
          "output_type": "stream",
          "text": [
            "Hello World\n"
          ]
        }
      ],
      "source": [
        "## This is a single line comment\n",
        "print(\"Hello World\")"
      ]
    },
    {
      "cell_type": "code",
      "execution_count": null,
      "metadata": {
        "id": "TJ6xz3Rmy4ZQ",
        "outputId": "a674a60f-e752-4a91-cfb3-894f5281a10e"
      },
      "outputs": [
        {
          "name": "stdout",
          "output_type": "stream",
          "text": [
            "43\n"
          ]
        }
      ],
      "source": [
        "## Line Continuation\n",
        "##Use a backslash (\\) to continue a statement to the next line\n",
        "\n",
        "total=1+2+3+4+5+6+7+\\\n",
        "4+5+6\n",
        "\n",
        "print(total)\n"
      ]
    },
    {
      "cell_type": "code",
      "execution_count": null,
      "metadata": {
        "id": "eZ5ZeRN-y4ZR",
        "outputId": "232025c4-838a-43a6-c0b3-4ec6b0e9a081"
      },
      "outputs": [
        {
          "name": "stdout",
          "output_type": "stream",
          "text": [
            "15\n"
          ]
        }
      ],
      "source": [
        "## Multiple Statements on a single line\n",
        "x=5;y=10;z=x+y\n",
        "print(z)"
      ]
    },
    {
      "cell_type": "code",
      "execution_count": null,
      "metadata": {
        "id": "XCVEbT8Py4ZR"
      },
      "outputs": [],
      "source": [
        "##Understand  Semnatics In Python\n",
        "# variable assignment\n",
        "age=32 ##age is an integer\n",
        "name=\"Krish\" ##name is a string"
      ]
    },
    {
      "cell_type": "code",
      "execution_count": null,
      "metadata": {
        "id": "uQYTO_GGy4ZR",
        "outputId": "62f0caaa-ef44-4423-b01b-735a7ff2ab5b"
      },
      "outputs": [
        {
          "data": {
            "text/plain": [
              "int"
            ]
          },
          "execution_count": 10,
          "metadata": {},
          "output_type": "execute_result"
        }
      ],
      "source": [
        "\n",
        "\n",
        "type(age)"
      ]
    },
    {
      "cell_type": "code",
      "execution_count": null,
      "metadata": {
        "id": "4vBjlxnoy4ZR",
        "outputId": "6eec12d2-542c-40ef-af21-56e2267263ec"
      },
      "outputs": [
        {
          "data": {
            "text/plain": [
              "str"
            ]
          },
          "execution_count": 9,
          "metadata": {},
          "output_type": "execute_result"
        }
      ],
      "source": [
        "type(name)"
      ]
    },
    {
      "cell_type": "code",
      "execution_count": null,
      "metadata": {
        "id": "UX0-f2Zfy4ZR",
        "outputId": "36292e88-b531-432f-d54b-738433652c8d"
      },
      "outputs": [
        {
          "name": "stdout",
          "output_type": "stream",
          "text": [
            "<class 'int'>\n",
            "<class 'str'>\n"
          ]
        }
      ],
      "source": [
        "## Type Inference\n",
        "variable=10\n",
        "print(type(variable))\n",
        "variable=\"Krish\"\n",
        "print(type(variable))"
      ]
    },
    {
      "cell_type": "code",
      "execution_count": null,
      "metadata": {
        "id": "Wb25MDjSy4ZS",
        "outputId": "562c4edc-7a87-4e17-fb36-ecae500d8852"
      },
      "outputs": [
        {
          "name": "stdout",
          "output_type": "stream",
          "text": [
            "32\n"
          ]
        }
      ],
      "source": [
        "age=32\n",
        "if age>30:\n",
        "    print(age)"
      ]
    },
    {
      "cell_type": "code",
      "execution_count": null,
      "metadata": {
        "id": "jj-soT1Ry4ZS",
        "outputId": "50f78a98-4afe-4fae-bd73-41ba90158f83"
      },
      "outputs": [
        {
          "ename": "NameError",
          "evalue": "name 'b' is not defined",
          "output_type": "error",
          "traceback": [
            "\u001b[1;31m---------------------------------------------------------------------------\u001b[0m",
            "\u001b[1;31mNameError\u001b[0m                                 Traceback (most recent call last)",
            "Cell \u001b[1;32mIn[15], line 1\u001b[0m\n\u001b[1;32m----> 1\u001b[0m a\u001b[38;5;241m=\u001b[39m\u001b[43mb\u001b[49m\n",
            "\u001b[1;31mNameError\u001b[0m: name 'b' is not defined"
          ]
        }
      ],
      "source": [
        "## Name Error\n",
        "a=b"
      ]
    },
    {
      "cell_type": "code",
      "execution_count": null,
      "metadata": {
        "id": "R0rLoDcby4ZS",
        "outputId": "bb7f8a92-f04a-4da8-df7b-26cf4eef8933"
      },
      "outputs": [
        {
          "name": "stdout",
          "output_type": "stream",
          "text": [
            "Correct Indentation\n",
            "This will print\n",
            "Outside the if block\n"
          ]
        }
      ],
      "source": [
        "## Code exmaples of indentation\n",
        "if True:\n",
        "    print(\"Correct Indentation\")\n",
        "    if False:\n",
        "        print(\"This ont print\")\n",
        "    print(\"This will print\")\n",
        "print(\"Outside the if block\")"
      ]
    },
    {
      "cell_type": "markdown",
      "metadata": {
        "id": "6AEykGBYzPwZ"
      },
      "source": [
        "### Variables\n",
        "Variables are fundamental elements in programming used to store data that can be referenced and manipulated in a program. In Python, variables are created when you assign a value to them, and they do not need explicit declaration to reserve memory space. The declaration happens automatically when you assign a value to a variable.\n",
        "\n",
        "- Introduction to Variables\n",
        "- Declaring and Assigning Variables\n",
        "- Naming Conventions\n",
        "- Understanding Variable Types\n",
        "- Type Checking and Conversion\n",
        "- Dynamic Typing\n",
        "- Practical Examples and Common Errors"
      ]
    },
    {
      "cell_type": "code",
      "execution_count": null,
      "metadata": {
        "id": "oc-fj4unzPwb"
      },
      "outputs": [],
      "source": [
        "a=100"
      ]
    },
    {
      "cell_type": "code",
      "execution_count": null,
      "metadata": {
        "id": "HUopuRKbzPwc",
        "outputId": "deb21a9f-289b-482d-a0dc-977365fa3650"
      },
      "outputs": [
        {
          "name": "stdout",
          "output_type": "stream",
          "text": [
            "age : 32\n",
            "Height: 6.1\n",
            "Name: Krish\n"
          ]
        }
      ],
      "source": [
        "## Declaring And Assigning Variables\n",
        "\n",
        "age=32\n",
        "height=6.1\n",
        "name=\"Krish\"\n",
        "is_student=True\n",
        "\n",
        "## printing the variables\n",
        "\n",
        "print(\"age :\",age)\n",
        "print(\"Height:\",height)\n",
        "print(\"Name:\",name)"
      ]
    },
    {
      "cell_type": "code",
      "execution_count": null,
      "metadata": {
        "id": "KF8hg0-XzPwc"
      },
      "outputs": [],
      "source": [
        "## Naming Conventions\n",
        "## Variable names should be descriptive\n",
        "## They must start with a letter or an '_' and contains letter,numbers and underscores\n",
        "## variables names case sensitive\n",
        "\n",
        "#valid variable names\n",
        "\n",
        "first_name=\"KRish\"\n",
        "last_name=\"Naik\""
      ]
    },
    {
      "cell_type": "code",
      "execution_count": null,
      "metadata": {
        "id": "LggO76abzPwd",
        "outputId": "78c62aba-f898-4057-8b22-1fed85e4e839"
      },
      "outputs": [
        {
          "ename": "SyntaxError",
          "evalue": "invalid syntax. Maybe you meant '==' or ':=' instead of '='? (1710987940.py, line 4)",
          "output_type": "error",
          "traceback": [
            "\u001b[1;36m  Cell \u001b[1;32mIn[6], line 4\u001b[1;36m\u001b[0m\n\u001b[1;33m    @name=\"Krish\"\u001b[0m\n\u001b[1;37m     ^\u001b[0m\n\u001b[1;31mSyntaxError\u001b[0m\u001b[1;31m:\u001b[0m invalid syntax. Maybe you meant '==' or ':=' instead of '='?\n"
          ]
        }
      ],
      "source": [
        "# Invalid variable names\n",
        "#2age=30\n",
        "#first-name=\"Krish\"\n",
        "##@name=\"Krish\""
      ]
    },
    {
      "cell_type": "code",
      "execution_count": null,
      "metadata": {
        "id": "aIXFz8tKzPwd",
        "outputId": "65ca8492-7eca-42f8-f523-dae293998dff"
      },
      "outputs": [
        {
          "data": {
            "text/plain": [
              "False"
            ]
          },
          "execution_count": 7,
          "metadata": {},
          "output_type": "execute_result"
        }
      ],
      "source": [
        "## case sensitivity\n",
        "name=\"Krish\"\n",
        "Name=\"Naik\""
      ]
    },
    {
      "cell_type": "code",
      "execution_count": null,
      "metadata": {
        "id": "_kC1FiYDzPwd",
        "outputId": "80a70e4a-7a9a-407a-c14a-6738f9933095"
      },
      "outputs": [
        {
          "name": "stdout",
          "output_type": "stream",
          "text": [
            "<class 'str'>\n"
          ]
        }
      ],
      "source": [
        "## Understnading Variable types\n",
        "## Python is dynamically typed,type of a variable is determined at runtime\n",
        "age=25 #int\n",
        "height=6.1 #float\n",
        "name=\"KRish\" #str\n",
        "is_student=True #bool\n",
        "\n",
        "print(type(name))"
      ]
    },
    {
      "cell_type": "code",
      "execution_count": null,
      "metadata": {
        "id": "2Q1x7eqfzPwd",
        "outputId": "16afe563-5bea-4da9-c53f-b552901bec3d"
      },
      "outputs": [
        {
          "data": {
            "text/plain": [
              "float"
            ]
          },
          "execution_count": 11,
          "metadata": {},
          "output_type": "execute_result"
        }
      ],
      "source": [
        "## Type Checking and Conversion\n",
        "\n",
        "type(height)"
      ]
    },
    {
      "cell_type": "code",
      "execution_count": null,
      "metadata": {
        "id": "OCSeq6_azPwd",
        "outputId": "432814a2-fb9f-4cd5-8478-47214a5fb971"
      },
      "outputs": [
        {
          "name": "stdout",
          "output_type": "stream",
          "text": [
            "<class 'int'>\n",
            "25\n",
            "<class 'str'>\n"
          ]
        }
      ],
      "source": [
        "age=25\n",
        "print(type(age))\n",
        "\n",
        "# Type conversion\n",
        "age_str=str(age)\n",
        "print(age_str)\n",
        "print(type(age_str))"
      ]
    },
    {
      "cell_type": "code",
      "execution_count": null,
      "metadata": {
        "id": "ajTcQibozPwe",
        "outputId": "6dc2e15f-4876-464e-fc18-af30311ef1f0"
      },
      "outputs": [
        {
          "name": "stdout",
          "output_type": "stream",
          "text": [
            "<class 'int'>\n"
          ]
        }
      ],
      "source": [
        "age='25'\n",
        "print(type(int(age)))"
      ]
    },
    {
      "cell_type": "code",
      "execution_count": null,
      "metadata": {
        "id": "t-V6_fepzPwe",
        "outputId": "e7937307-3863-41b8-ce12-34bc104bd24c"
      },
      "outputs": [
        {
          "ename": "ValueError",
          "evalue": "invalid literal for int() with base 10: 'Krish'",
          "output_type": "error",
          "traceback": [
            "\u001b[1;31m---------------------------------------------------------------------------\u001b[0m",
            "\u001b[1;31mValueError\u001b[0m                                Traceback (most recent call last)",
            "Cell \u001b[1;32mIn[16], line 2\u001b[0m\n\u001b[0;32m      1\u001b[0m name\u001b[38;5;241m=\u001b[39m\u001b[38;5;124m\"\u001b[39m\u001b[38;5;124mKrish\u001b[39m\u001b[38;5;124m\"\u001b[39m\n\u001b[1;32m----> 2\u001b[0m \u001b[38;5;28;43mint\u001b[39;49m\u001b[43m(\u001b[49m\u001b[43mname\u001b[49m\u001b[43m)\u001b[49m\n",
            "\u001b[1;31mValueError\u001b[0m: invalid literal for int() with base 10: 'Krish'"
          ]
        }
      ],
      "source": [
        "name=\"Krish\"\n",
        "int(name)"
      ]
    },
    {
      "cell_type": "code",
      "execution_count": null,
      "metadata": {
        "id": "9wiBEZsrzPwe",
        "outputId": "89ce1fde-b225-42b0-a153-a060584d5784"
      },
      "outputs": [
        {
          "data": {
            "text/plain": [
              "float"
            ]
          },
          "execution_count": 17,
          "metadata": {},
          "output_type": "execute_result"
        }
      ],
      "source": [
        "height=5.11\n",
        "type(height)"
      ]
    },
    {
      "cell_type": "code",
      "execution_count": null,
      "metadata": {
        "id": "31A0AbrpzPwe",
        "outputId": "1a82be0c-7b5c-44d9-f690-7c87c99bfd89"
      },
      "outputs": [
        {
          "data": {
            "text/plain": [
              "5.0"
            ]
          },
          "execution_count": 19,
          "metadata": {},
          "output_type": "execute_result"
        }
      ],
      "source": [
        "float(int(height))"
      ]
    },
    {
      "cell_type": "code",
      "execution_count": null,
      "metadata": {
        "id": "GRvgqoCzzPwe",
        "outputId": "0196c5a7-d3c1-4edb-f2ca-bf4eb5794d64"
      },
      "outputs": [
        {
          "name": "stdout",
          "output_type": "stream",
          "text": [
            "10 <class 'int'>\n",
            "Hello <class 'str'>\n",
            "3.14 <class 'float'>\n"
          ]
        }
      ],
      "source": [
        "## Dynamic Typing\n",
        "## Python allows the type of a vraible to change as the program executes\n",
        "var=10 #int\n",
        "print(var,type(var))\n",
        "\n",
        "var=\"Hello\"\n",
        "print(var,type(var))\n",
        "\n",
        "var=3.14\n",
        "print(var,type(var))\n",
        "\n"
      ]
    },
    {
      "cell_type": "code",
      "execution_count": null,
      "metadata": {
        "id": "Cp_q2-I3zPwf",
        "outputId": "511d453c-dce7-4e37-8c92-3c9abdc3620b"
      },
      "outputs": [
        {
          "name": "stdout",
          "output_type": "stream",
          "text": [
            "23 <class 'int'>\n"
          ]
        }
      ],
      "source": [
        "## input\n",
        "\n",
        "age=int(input(\"What is the age\"))\n",
        "print(age,type(age))"
      ]
    },
    {
      "cell_type": "code",
      "execution_count": null,
      "metadata": {
        "id": "3sXG8puGzPwf",
        "outputId": "71fe65e0-6b23-482c-9ab0-c36fd3dd3393"
      },
      "outputs": [
        {
          "name": "stdout",
          "output_type": "stream",
          "text": [
            "Sum: 66.0\n",
            "Difference: 46.0\n",
            "Product: 560.0\n",
            "Quotient: 5.6\n"
          ]
        }
      ],
      "source": [
        "### Simple calculator\n",
        "num1 = float(input(\"Enter first number: \"))\n",
        "num2 = float(input(\"Enter second number: \"))\n",
        "\n",
        "sum = num1 + num2\n",
        "difference = num1 - num2\n",
        "product = num1 * num2\n",
        "quotient = num1 / num2\n",
        "\n",
        "print(\"Sum:\", sum)\n",
        "print(\"Difference:\", difference)\n",
        "print(\"Product:\", product)\n",
        "print(\"Quotient:\", quotient)\n"
      ]
    },
    {
      "cell_type": "markdown",
      "metadata": {
        "id": "Ef8gLwKozhaf"
      },
      "source": [
        "## DataTypes\n",
        "#### 1. Definition:\n",
        "\n",
        "- Data types are a classification of data which tell the compiler or interpreter how the programmer intends to use the data.\n",
        "- They determine the type of operations that can be performed on the data, the values that the data can take, and the amount of memory needed to store the data.\n",
        "\n",
        "#### 2. Importance of Data Types in Programming\n",
        "Explanation:\n",
        "\n",
        "- Data types ensure that data is stored in an efficient way.\n",
        "- They help in performing correct operations on data.\n",
        "- Proper use of data types can prevent errors and bugs in the program."
      ]
    },
    {
      "cell_type": "markdown",
      "metadata": {
        "id": "Y8YpPavmzhah"
      },
      "source": [
        "\n",
        "1. Introduction to Data Types\n",
        "2. Importance of Data Types in Programming\n",
        "3. Basic Data Types\n",
        "   - Integers\n",
        "   - Floating-point numbers\n",
        "   - Strings\n",
        "   - Booleans\n",
        "4. Advanced Data Types\n",
        "   - Lists\n",
        "   - Tuples\n",
        "   - Sets\n",
        "   - Dictionaries\n",
        "5. Type Conversion\n",
        "6. Practical Examples"
      ]
    },
    {
      "cell_type": "code",
      "execution_count": null,
      "metadata": {
        "id": "_0S78FvAzhah",
        "outputId": "023969f3-805e-4e81-9f09-ecc849f8c5c2"
      },
      "outputs": [
        {
          "data": {
            "text/plain": [
              "int"
            ]
          },
          "execution_count": 1,
          "metadata": {},
          "output_type": "execute_result"
        }
      ],
      "source": [
        "## Integer Example\n",
        "age=35\n",
        "type(age)"
      ]
    },
    {
      "cell_type": "code",
      "execution_count": null,
      "metadata": {
        "id": "b5PZzFUhzhai",
        "outputId": "aef9755b-b66b-4148-d37c-49fe298acf30"
      },
      "outputs": [
        {
          "name": "stdout",
          "output_type": "stream",
          "text": [
            "5.11\n",
            "<class 'float'>\n"
          ]
        }
      ],
      "source": [
        "##floating point datatype\n",
        "height=5.11\n",
        "print(height)\n",
        "print(type(height))\n"
      ]
    },
    {
      "cell_type": "code",
      "execution_count": null,
      "metadata": {
        "id": "Pa98lJvjzhai",
        "outputId": "618995c3-2685-4338-982d-24face7e2084"
      },
      "outputs": [
        {
          "name": "stdout",
          "output_type": "stream",
          "text": [
            "Krish\n",
            "<class 'str'>\n"
          ]
        }
      ],
      "source": [
        "## string datatype example\n",
        "name=\"Krish\"\n",
        "print(name)\n",
        "print(type(name))"
      ]
    },
    {
      "cell_type": "code",
      "execution_count": null,
      "metadata": {
        "id": "0VBm9Bvvzhaj",
        "outputId": "dd756da5-5fc3-4d1c-b4a6-b9b086b49d6b"
      },
      "outputs": [
        {
          "data": {
            "text/plain": [
              "bool"
            ]
          },
          "execution_count": 7,
          "metadata": {},
          "output_type": "execute_result"
        }
      ],
      "source": [
        "## boolean datatype\n",
        "is_true=True\n",
        "type(is_true)"
      ]
    },
    {
      "cell_type": "code",
      "execution_count": null,
      "metadata": {
        "id": "5Tn7G19czhaj",
        "outputId": "d35bd440-1e64-40a9-de31-dc40d9ad9c1f"
      },
      "outputs": [
        {
          "data": {
            "text/plain": [
              "bool"
            ]
          },
          "execution_count": 11,
          "metadata": {},
          "output_type": "execute_result"
        }
      ],
      "source": [
        "a=10\n",
        "b=10\n",
        "\n",
        "type(a==b)\n"
      ]
    },
    {
      "cell_type": "code",
      "execution_count": null,
      "metadata": {
        "id": "HvB9y5rhzhaj",
        "outputId": "c94bcca9-db3f-4ad4-c377-333f01e848b8"
      },
      "outputs": [
        {
          "ename": "TypeError",
          "evalue": "can only concatenate str (not \"int\") to str",
          "output_type": "error",
          "traceback": [
            "\u001b[1;31m---------------------------------------------------------------------------\u001b[0m",
            "\u001b[1;31mTypeError\u001b[0m                                 Traceback (most recent call last)",
            "Cell \u001b[1;32mIn[12], line 3\u001b[0m\n\u001b[0;32m      1\u001b[0m \u001b[38;5;66;03m## common errors\u001b[39;00m\n\u001b[1;32m----> 3\u001b[0m result\u001b[38;5;241m=\u001b[39m\u001b[38;5;124;43m\"\u001b[39;49m\u001b[38;5;124;43mHello\u001b[39;49m\u001b[38;5;124;43m\"\u001b[39;49m\u001b[43m \u001b[49m\u001b[38;5;241;43m+\u001b[39;49m\u001b[43m \u001b[49m\u001b[38;5;241;43m5\u001b[39;49m\n",
            "\u001b[1;31mTypeError\u001b[0m: can only concatenate str (not \"int\") to str"
          ]
        }
      ],
      "source": [
        "## common errors\n",
        "\n",
        "result=\"Hello\" + 5\n"
      ]
    },
    {
      "cell_type": "code",
      "execution_count": null,
      "metadata": {
        "id": "hmN_8xOHzhaj",
        "outputId": "bd0fc38a-1dba-47df-cfe0-c095431b687e"
      },
      "outputs": [
        {
          "name": "stdout",
          "output_type": "stream",
          "text": [
            "Hello5\n"
          ]
        }
      ],
      "source": [
        "result=\"Hello\" + str(5)\n",
        "print(result)"
      ]
    },
    {
      "cell_type": "markdown",
      "metadata": {
        "id": "_y7CKcqyzwPv"
      },
      "source": [
        "## Deep Dive into Operators"
      ]
    },
    {
      "cell_type": "markdown",
      "metadata": {
        "id": "N7j1H2RDzwPx"
      },
      "source": [
        "\n",
        "1. Introduction to Operators\n",
        "2. Arithmetic Operators\n",
        "   - Addition\n",
        "   - Subtraction\n",
        "   - Multiplication\n",
        "   - Division\n",
        "   - Floor Division\n",
        "   - Modulus\n",
        "   - Exponentiation\n",
        "3. Comparison Operators\n",
        "   - Equal to\n",
        "   - Not equal to\n",
        "   - Greater than\n",
        "   - Less than\n",
        "   - Greater than or equal to\n",
        "   - Less than or equal to\n",
        "4. Logical Operators\n",
        "   - AND\n",
        "   - OR\n",
        "   - NOT\n",
        "5. Practical Examples and Common Errors"
      ]
    },
    {
      "cell_type": "code",
      "execution_count": null,
      "metadata": {
        "id": "1hdbX44fzwPy",
        "outputId": "b1786115-37f1-4693-e68c-fe1891485f50"
      },
      "outputs": [
        {
          "name": "stdout",
          "output_type": "stream",
          "text": [
            "15\n",
            "5\n",
            "50\n",
            "2.0\n",
            "2\n",
            "0\n",
            "100000\n"
          ]
        }
      ],
      "source": [
        "## Arithmethic Operation\n",
        "\n",
        "a=10\n",
        "b = 5\n",
        "\n",
        "add_result=a+b  #addiiton\n",
        "sub_result=a-b  #substraction\n",
        "mult_result=a*b #multiplication\n",
        "div_result=a/b  #division\n",
        "floor_div_result=a//b ## floor division\n",
        "modulus_result=a%b #modulus operation\n",
        "\n",
        "exponent_result=a**b ## Exponentiation\n",
        "\n",
        "\n",
        "print(add_result)\n",
        "print(sub_result)\n",
        "print(mult_result)\n",
        "print(div_result)\n",
        "print(floor_div_result)\n",
        "print(modulus_result)\n",
        "print(exponent_result)\n",
        "\n"
      ]
    },
    {
      "cell_type": "code",
      "execution_count": null,
      "metadata": {
        "id": "fCkgfMPDzwPz",
        "outputId": "71123a0d-6fdb-4ef3-a63a-772db6072014"
      },
      "outputs": [
        {
          "data": {
            "text/plain": [
              "2.0"
            ]
          },
          "execution_count": 5,
          "metadata": {},
          "output_type": "execute_result"
        }
      ],
      "source": [
        "10/5"
      ]
    },
    {
      "cell_type": "code",
      "execution_count": null,
      "metadata": {
        "id": "oh9Oxb3NzwPz",
        "outputId": "f6268ab8-3a8c-4722-db11-9285a3ea4210"
      },
      "outputs": [
        {
          "data": {
            "text/plain": [
              "4.2"
            ]
          },
          "execution_count": 6,
          "metadata": {},
          "output_type": "execute_result"
        }
      ],
      "source": [
        "21/5"
      ]
    },
    {
      "cell_type": "code",
      "execution_count": null,
      "metadata": {
        "id": "HXtiZZYbzwP0",
        "outputId": "e3119c70-ef39-47ba-83a1-5acb6a200eb6"
      },
      "outputs": [
        {
          "data": {
            "text/plain": [
              "4"
            ]
          },
          "execution_count": 7,
          "metadata": {},
          "output_type": "execute_result"
        }
      ],
      "source": [
        "21//5"
      ]
    },
    {
      "cell_type": "markdown",
      "metadata": {
        "id": "bmWXIRYszwP0"
      },
      "source": [
        "#### Comparison Operators"
      ]
    },
    {
      "cell_type": "code",
      "execution_count": null,
      "metadata": {
        "id": "ST7YnAsezwP0",
        "outputId": "c829d87f-e3c1-4549-931f-159d444352cf"
      },
      "outputs": [
        {
          "data": {
            "text/plain": [
              "True"
            ]
          },
          "execution_count": 8,
          "metadata": {},
          "output_type": "execute_result"
        }
      ],
      "source": [
        "## Comparison Operators\n",
        "## == Equal to\n",
        "a=10\n",
        "b=10\n",
        "\n",
        "a==b"
      ]
    },
    {
      "cell_type": "code",
      "execution_count": null,
      "metadata": {
        "id": "iZl4Q88MzwP0",
        "outputId": "aabbdce1-a81f-4480-a34d-7b6f4edee2ab"
      },
      "outputs": [
        {
          "data": {
            "text/plain": [
              "True"
            ]
          },
          "execution_count": 11,
          "metadata": {},
          "output_type": "execute_result"
        }
      ],
      "source": [
        "str1=\"Krish\"\n",
        "str2=\"Krish\"\n",
        "\n",
        "str1==str2"
      ]
    },
    {
      "cell_type": "code",
      "execution_count": null,
      "metadata": {
        "id": "10hA5bRozwP0",
        "outputId": "91969a6b-bd8c-43f8-99ef-a1c3037e19e3"
      },
      "outputs": [
        {
          "data": {
            "text/plain": [
              "False"
            ]
          },
          "execution_count": 12,
          "metadata": {},
          "output_type": "execute_result"
        }
      ],
      "source": [
        "## Not Equal to !=\n",
        "str1!=str2"
      ]
    },
    {
      "cell_type": "code",
      "execution_count": null,
      "metadata": {
        "id": "qaCRf9b0zwP0",
        "outputId": "323f938e-36f3-480c-e9e8-1967abf404e2"
      },
      "outputs": [
        {
          "data": {
            "text/plain": [
              "True"
            ]
          },
          "execution_count": 13,
          "metadata": {},
          "output_type": "execute_result"
        }
      ],
      "source": [
        "str3=\"Krish\"\n",
        "str4=\"krish\"\n",
        "\n",
        "str3!=str4"
      ]
    },
    {
      "cell_type": "code",
      "execution_count": null,
      "metadata": {
        "id": "HBwDCTrBzwP1",
        "outputId": "6e4230a5-03b5-4f4d-cf02-4eddf0d3a391"
      },
      "outputs": [
        {
          "data": {
            "text/plain": [
              "False"
            ]
          },
          "execution_count": 14,
          "metadata": {},
          "output_type": "execute_result"
        }
      ],
      "source": [
        "# greater than >\n",
        "\n",
        "num1=45\n",
        "num2=55\n",
        "\n",
        "num1>num2"
      ]
    },
    {
      "cell_type": "code",
      "execution_count": null,
      "metadata": {
        "id": "pykXAhgLzwP1",
        "outputId": "4cca41c6-bb83-4dfb-f48d-23e38b5bdaf5"
      },
      "outputs": [
        {
          "name": "stdout",
          "output_type": "stream",
          "text": [
            "True\n"
          ]
        }
      ],
      "source": [
        "## less than <\n",
        "\n",
        "print(num1<num2)\n"
      ]
    },
    {
      "cell_type": "code",
      "execution_count": null,
      "metadata": {
        "id": "yTvPkUfIzwP1",
        "outputId": "66c88d71-0b58-4fba-eb4a-e980af8a99da"
      },
      "outputs": [
        {
          "name": "stdout",
          "output_type": "stream",
          "text": [
            "True\n"
          ]
        }
      ],
      "source": [
        "#greater than or equal to\n",
        "number1=45\n",
        "number2=45\n",
        "\n",
        "print(number1>=number2)\n"
      ]
    },
    {
      "cell_type": "code",
      "execution_count": null,
      "metadata": {
        "id": "S3SeBsCIzwP1",
        "outputId": "92c2e6f9-4e61-47f2-dda1-f41370b07272"
      },
      "outputs": [
        {
          "name": "stdout",
          "output_type": "stream",
          "text": [
            "True\n"
          ]
        }
      ],
      "source": [
        "#less than or equal to\n",
        "number1=44\n",
        "number2=45\n",
        "\n",
        "print(number1<=number2)"
      ]
    },
    {
      "cell_type": "markdown",
      "metadata": {
        "id": "gIzeULnHzwP1"
      },
      "source": [
        "#### Logical Operators"
      ]
    },
    {
      "cell_type": "code",
      "execution_count": null,
      "metadata": {
        "id": "kGc1doJfzwP1",
        "outputId": "6dfecfb3-5b37-434b-df71-7bc41edc1075"
      },
      "outputs": [
        {
          "name": "stdout",
          "output_type": "stream",
          "text": [
            "True\n"
          ]
        }
      ],
      "source": [
        "## And ,Not,OR\n",
        "X=True\n",
        "Y=True\n",
        "\n",
        "result =X and Y\n",
        "print(result)\n"
      ]
    },
    {
      "cell_type": "code",
      "execution_count": null,
      "metadata": {
        "id": "CYhxVL7czwP2",
        "outputId": "b5b01b19-b9b6-40eb-f3ed-9e5390683939"
      },
      "outputs": [
        {
          "name": "stdout",
          "output_type": "stream",
          "text": [
            "False\n"
          ]
        }
      ],
      "source": [
        "X=False\n",
        "Y=True\n",
        "\n",
        "result =X and Y\n",
        "print(result)"
      ]
    },
    {
      "cell_type": "code",
      "execution_count": null,
      "metadata": {
        "id": "O30kViGTzwP2",
        "outputId": "f729afdf-08c7-4109-a918-8dd49601638a"
      },
      "outputs": [
        {
          "name": "stdout",
          "output_type": "stream",
          "text": [
            "False\n"
          ]
        }
      ],
      "source": [
        "## OR\n",
        "X=False\n",
        "Y=False\n",
        "\n",
        "result =X or Y\n",
        "print(result)"
      ]
    },
    {
      "cell_type": "code",
      "execution_count": null,
      "metadata": {
        "id": "KWkzp6mgzwP2",
        "outputId": "7849612e-e581-49c1-9fbf-73367d5bc6da"
      },
      "outputs": [
        {
          "data": {
            "text/plain": [
              "True"
            ]
          },
          "execution_count": 29,
          "metadata": {},
          "output_type": "execute_result"
        }
      ],
      "source": [
        "# Not operator\n",
        "X=False\n",
        "not X"
      ]
    },
    {
      "cell_type": "code",
      "execution_count": null,
      "metadata": {
        "id": "St1WhC0yzwP2",
        "outputId": "524609b7-6fbe-4438-b314-f92cb4fa753f"
      },
      "outputs": [
        {
          "name": "stdout",
          "output_type": "stream",
          "text": [
            "Addition: 16.0\n",
            "Subtraction: 8.0\n",
            "Multiplication: 48.0\n",
            "Division: 3.0\n",
            "Floor Division: 3.0\n",
            "Modulus: 0.0\n",
            "Exponentiation: 20736.0\n"
          ]
        }
      ],
      "source": [
        "## Simple Calculator\n",
        "\n",
        "# Simple calculator\n",
        "num1 = float(input(\"Enter first number: \"))\n",
        "num2 = float(input(\"Enter second number: \"))\n",
        "\n",
        "# Performing arithmetic operations\n",
        "addition = num1 + num2\n",
        "subtraction = num1 - num2\n",
        "multiplication = num1 * num2\n",
        "division = num1 / num2\n",
        "floor_division = num1 // num2\n",
        "modulus = num1 % num2\n",
        "exponentiation = num1 ** num2\n",
        "\n",
        "# Displaying results\n",
        "print(\"Addition:\", addition)\n",
        "print(\"Subtraction:\", subtraction)\n",
        "print(\"Multiplication:\", multiplication)\n",
        "print(\"Division:\", division)\n",
        "print(\"Floor Division:\", floor_division)\n",
        "print(\"Modulus:\", modulus)\n",
        "print(\"Exponentiation:\", exponentiation)\n"
      ]
    }
  ],
  "metadata": {
    "kernelspec": {
      "display_name": "Python 3",
      "language": "python",
      "name": "python3"
    },
    "language_info": {
      "codemirror_mode": {
        "name": "ipython",
        "version": 3
      },
      "file_extension": ".py",
      "mimetype": "text/x-python",
      "name": "python",
      "nbconvert_exporter": "python",
      "pygments_lexer": "ipython3",
      "version": "3.12.0"
    },
    "colab": {
      "provenance": [],
      "toc_visible": true,
      "include_colab_link": true
    }
  },
  "nbformat": 4,
  "nbformat_minor": 0
}